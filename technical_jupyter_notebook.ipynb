{
  "nbformat": 4,
  "nbformat_minor": 0,
  "metadata": {
    "colab": {
      "provenance": [],
      "authorship_tag": "ABX9TyM4HvaR5zhC1krC4tyKBWzI",
      "include_colab_link": true
    },
    "kernelspec": {
      "name": "python3",
      "display_name": "Python 3"
    },
    "language_info": {
      "name": "python"
    }
  },
  "cells": [
    {
      "cell_type": "markdown",
      "metadata": {
        "id": "view-in-github",
        "colab_type": "text"
      },
      "source": [
        "<a href=\"https://colab.research.google.com/github/davidmasai/Suicide_Rates_Analysis_Project/blob/main/technical_jupyter_notebook.ipynb\" target=\"_parent\"><img src=\"https://colab.research.google.com/assets/colab-badge.svg\" alt=\"Open In Colab\"/></a>"
      ]
    },
    {
      "cell_type": "code",
      "execution_count": null,
      "metadata": {
        "id": "2h2rxJVj5p84"
      },
      "outputs": [],
      "source": []
    },
    {
      "cell_type": "markdown",
      "source": [
        "# Dataset 1 : Suicide Rates Overview 1985 to 2016\n",
        "\n",
        "## About Dataset\n",
        "\n",
        "## Content\n",
        "This compiled dataset pulled from four other datasets linked by time and place, and was built to find signals correlated to increased suicide rates among different cohorts globally, across the socio-economic spectrum. It compares socio-economic info with suicide rates by year and country\n",
        "\n",
        "## References\n",
        "\n",
        "1.United Nations Development Program. (2018). Human development index (HDI). Retrieved from http://hdr.undp.org/en/indicators/137506\n",
        "\n",
        "2. World Bank. (2018). World development indicators: GDP (current US$) by country:1985 to 2016. Retrieved from http://databank.worldbank.org/data/source/world-development-indicators#\n",
        "\n",
        "3. [Szamil]. (2017). Suicide in the Twenty-First Century [dataset]. Retrieved from https://www.kaggle.com/szamil/suicide-in-the-twenty-first-century/notebook\n",
        "\n",
        "4.World Health Organization. (2018). Suicide prevention. Retrieved from http://www.who.int/mental_health/suicide-prevention/en/\n",
        "\n",
        "##Inspiration\n",
        "\n",
        "Suicide Prevention."
      ],
      "metadata": {
        "id": "-Evxu9ur53r0"
      }
    },
    {
      "cell_type": "code",
      "source": [],
      "metadata": {
        "id": "YAPcKu9-6CsW"
      },
      "execution_count": null,
      "outputs": []
    }
  ]
}